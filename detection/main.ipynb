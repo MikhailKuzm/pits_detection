{
 "cells": [
  {
   "cell_type": "code",
   "execution_count": 1,
   "metadata": {},
   "outputs": [
    {
     "name": "stderr",
     "output_type": "stream",
     "text": [
      "Обучение модели:   4%|▍         | 4/100 [00:03<01:35,  1.00%/s, FileNotFoundError: [WinError 2] РќРµ СѓРґР°РµС‚СЃСЏ РЅР°Р№С‚Рё СѓРєР°Р·Р°РЅРЅС‹Р№ С„Р°Р№Р»: 'detection']\n"
     ]
    }
   ],
   "source": [
    "import subprocess\n",
    "import sys\n",
    "from tqdm import tqdm\n",
    "import time\n",
    "import os\n",
    "os.environ['HYDRA_FULL_ERROR'] = '1'  \n",
    "# Запуск обучения с отслеживанием лога\n",
    "def run_training():\n",
    "    command = [sys.executable, \"train.py\"]\n",
    "    process = subprocess.Popen(command, stdout=subprocess.PIPE, stderr=subprocess.STDOUT, text=True, bufsize=1)\n",
    "    \n",
    "    tqdm_bar = tqdm(total=100, desc=\"Обучение модели\", unit=\"%\", dynamic_ncols=True)\n",
    "    \n",
    "    for line in iter(process.stdout.readline, \"\"):\n",
    "        tqdm_bar.update(1)  # Каждая строка лога увеличивает прогресс\n",
    "        tqdm_bar.set_postfix_str(line.strip())  # Отображение текущего состояния\n",
    "        time.sleep(0.1)\n",
    "\n",
    "    process.stdout.close()\n",
    "    process.wait()\n",
    "    tqdm_bar.close()\n",
    "\n",
    "# Запускаем обучение\n",
    "run_training()"
   ]
  },
  {
   "cell_type": "code",
   "execution_count": null,
   "metadata": {},
   "outputs": [],
   "source": [
    "import pandas as pd\n",
    "import matplotlib.pyplot as plt\n",
    "import os\n",
    "import glob\n",
    "\n",
    "# Функция для загрузки логов PyTorch Lightning\n",
    "def load_logs(log_dir=\"lightning_logs\"):\n",
    "    log_files = sorted(glob.glob(f\"{log_dir}/version_*/metrics.csv\"), key=os.path.getctime)\n",
    "    \n",
    "    if not log_files:\n",
    "        raise FileNotFoundError(\"Не найдено файлов с логами. Запустите обучение.\")\n",
    "    \n",
    "    log_file = log_files[-1]  # Берём самый последний лог\n",
    "    df = pd.read_csv(log_file)\n",
    "    return df\n",
    "\n",
    "# Загружаем данные\n",
    "df = load_logs()\n",
    "\n",
    "# Построение графиков\n",
    "plt.figure(figsize=(12, 5))\n",
    "\n",
    "# Лосс\n",
    "plt.subplot(1, 2, 1)\n",
    "plt.plot(df[\"epoch\"], df[\"train_loss\"], label=\"Train Loss\", color=\"blue\")\n",
    "plt.plot(df[\"epoch\"], df[\"val_loss\"], label=\"Validation Loss\", color=\"red\")\n",
    "plt.xlabel(\"Эпоха\")\n",
    "plt.ylabel(\"Loss\")\n",
    "plt.title(\"Изменение Loss во время обучения\")\n",
    "plt.legend()\n",
    "\n",
    "# Точность (val_mAP)\n",
    "plt.subplot(1, 2, 2)\n",
    "plt.plot(df[\"epoch\"], df[\"val_mAP\"], label=\"Validation mAP\", color=\"green\")\n",
    "plt.xlabel(\"Эпоха\")\n",
    "plt.ylabel(\"mAP\")\n",
    "plt.title(\"Изменение точности (mAP) на валидации\")\n",
    "plt.legend()\n",
    "\n",
    "plt.show()"
   ]
  },
  {
   "cell_type": "code",
   "execution_count": null,
   "metadata": {},
   "outputs": [],
   "source": []
  }
 ],
 "metadata": {
  "kernelspec": {
   "display_name": "Python 3",
   "language": "python",
   "name": "python3"
  },
  "language_info": {
   "codemirror_mode": {
    "name": "ipython",
    "version": 3
   },
   "file_extension": ".py",
   "mimetype": "text/x-python",
   "name": "python",
   "nbconvert_exporter": "python",
   "pygments_lexer": "ipython3",
   "version": "3.10.7"
  }
 },
 "nbformat": 4,
 "nbformat_minor": 2
}
